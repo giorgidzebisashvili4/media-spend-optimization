{
 "cells": [
  {
   "cell_type": "markdown",
   "id": "5677dd87-c061-4fa1-a922-26cf2410e0f7",
   "metadata": {},
   "source": [
    "# 📊 Media Campaign Performance - Exploratory Data Analysis\n",
    "**Author:** Giorgi Dzebisashvili  \n",
    "**Date:** jul-2025\n",
    "**Project:** Media Spend Optimization Portfolio Project  \n",
    "\n",
    "This notebook explores multi-channel digital advertising performance data. The goal is to:\n",
    "- Inspect the dataset for quality and structure\n",
    "- Compute key digital marketing metrics (CTR, ROAS, etc.)\n",
    "- Prepare clean data for further analysis and dashboarding"
   ]
  },
  {
   "cell_type": "code",
   "execution_count": 4,
   "id": "a15e7faa-2795-4274-9664-94e2e8271ec3",
   "metadata": {},
   "outputs": [
    {
     "data": {
      "text/html": [
       "<div>\n",
       "<style scoped>\n",
       "    .dataframe tbody tr th:only-of-type {\n",
       "        vertical-align: middle;\n",
       "    }\n",
       "\n",
       "    .dataframe tbody tr th {\n",
       "        vertical-align: top;\n",
       "    }\n",
       "\n",
       "    .dataframe thead th {\n",
       "        text-align: right;\n",
       "    }\n",
       "</style>\n",
       "<table border=\"1\" class=\"dataframe\">\n",
       "  <thead>\n",
       "    <tr style=\"text-align: right;\">\n",
       "      <th></th>\n",
       "      <th>Campaign Name</th>\n",
       "      <th>Channel</th>\n",
       "      <th>Date</th>\n",
       "      <th>Spend</th>\n",
       "      <th>Clicks</th>\n",
       "      <th>Impressions</th>\n",
       "      <th>Conversions</th>\n",
       "      <th>Revenue</th>\n",
       "    </tr>\n",
       "  </thead>\n",
       "  <tbody>\n",
       "    <tr>\n",
       "      <th>0</th>\n",
       "      <td>Search Max</td>\n",
       "      <td>Google Ads</td>\n",
       "      <td>2025-05-01</td>\n",
       "      <td>143.64</td>\n",
       "      <td>383</td>\n",
       "      <td>9771</td>\n",
       "      <td>53</td>\n",
       "      <td>1308.07</td>\n",
       "    </tr>\n",
       "    <tr>\n",
       "      <th>1</th>\n",
       "      <td>Brand Awareness</td>\n",
       "      <td>Google Ads</td>\n",
       "      <td>2025-05-01</td>\n",
       "      <td>89.00</td>\n",
       "      <td>128</td>\n",
       "      <td>2876</td>\n",
       "      <td>17</td>\n",
       "      <td>701.12</td>\n",
       "    </tr>\n",
       "    <tr>\n",
       "      <th>2</th>\n",
       "      <td>Retargeting Boost</td>\n",
       "      <td>Google Ads</td>\n",
       "      <td>2025-05-01</td>\n",
       "      <td>55.15</td>\n",
       "      <td>164</td>\n",
       "      <td>3794</td>\n",
       "      <td>13</td>\n",
       "      <td>330.91</td>\n",
       "    </tr>\n",
       "    <tr>\n",
       "      <th>3</th>\n",
       "      <td>Engagement Surge</td>\n",
       "      <td>Meta Ads</td>\n",
       "      <td>2025-05-01</td>\n",
       "      <td>95.85</td>\n",
       "      <td>125</td>\n",
       "      <td>4041</td>\n",
       "      <td>14</td>\n",
       "      <td>402.32</td>\n",
       "    </tr>\n",
       "    <tr>\n",
       "      <th>4</th>\n",
       "      <td>Conversion Magnet</td>\n",
       "      <td>Meta Ads</td>\n",
       "      <td>2025-05-01</td>\n",
       "      <td>202.96</td>\n",
       "      <td>156</td>\n",
       "      <td>7221</td>\n",
       "      <td>16</td>\n",
       "      <td>538.91</td>\n",
       "    </tr>\n",
       "  </tbody>\n",
       "</table>\n",
       "</div>"
      ],
      "text/plain": [
       "       Campaign Name     Channel        Date   Spend  Clicks  Impressions  \\\n",
       "0         Search Max  Google Ads  2025-05-01  143.64     383         9771   \n",
       "1    Brand Awareness  Google Ads  2025-05-01   89.00     128         2876   \n",
       "2  Retargeting Boost  Google Ads  2025-05-01   55.15     164         3794   \n",
       "3   Engagement Surge    Meta Ads  2025-05-01   95.85     125         4041   \n",
       "4  Conversion Magnet    Meta Ads  2025-05-01  202.96     156         7221   \n",
       "\n",
       "   Conversions  Revenue  \n",
       "0           53  1308.07  \n",
       "1           17   701.12  \n",
       "2           13   330.91  \n",
       "3           14   402.32  \n",
       "4           16   538.91  "
      ]
     },
     "execution_count": 4,
     "metadata": {},
     "output_type": "execute_result"
    }
   ],
   "source": [
    "# Imports\n",
    "import pandas as pd\n",
    "import numpy as np\n",
    "import matplotlib.pyplot as plt\n",
    "import seaborn as sns\n",
    "\n",
    "# Show all columns when previewing\n",
    "pd.set_option('display.max_columns', None)\n",
    "\n",
    "# Load the dataset\n",
    "df = pd.read_csv('../data/media_campaign_data.csv')\n",
    "\n",
    "# Preview first few rows\n",
    "df.head()\n"
   ]
  },
  {
   "cell_type": "markdown",
   "id": "07a0f2bc-263d-41ea-99e6-23958b53231e",
   "metadata": {},
   "source": [
    "## 📐 Basic Dataset Info\n",
    "\n",
    "Let’s check:\n",
    "- Number of rows and columns\n",
    "- Column data types\n",
    "- Non-null counts"
   ]
  },
  {
   "cell_type": "code",
   "execution_count": 5,
   "id": "12ab40c4-3c06-4c64-9cac-ecbc0203b8d5",
   "metadata": {},
   "outputs": [
    {
     "name": "stdout",
     "output_type": "stream",
     "text": [
      "Rows: 915, Columns: 8\n",
      "<class 'pandas.core.frame.DataFrame'>\n",
      "RangeIndex: 915 entries, 0 to 914\n",
      "Data columns (total 8 columns):\n",
      " #   Column         Non-Null Count  Dtype  \n",
      "---  ------         --------------  -----  \n",
      " 0   Campaign Name  915 non-null    object \n",
      " 1   Channel        915 non-null    object \n",
      " 2   Date           915 non-null    object \n",
      " 3   Spend          915 non-null    float64\n",
      " 4   Clicks         915 non-null    int64  \n",
      " 5   Impressions    915 non-null    int64  \n",
      " 6   Conversions    915 non-null    int64  \n",
      " 7   Revenue        915 non-null    float64\n",
      "dtypes: float64(2), int64(3), object(3)\n",
      "memory usage: 57.3+ KB\n"
     ]
    }
   ],
   "source": [
    "# Shape of the dataset\n",
    "print(f\"Rows: {df.shape[0]}, Columns: {df.shape[1]}\")\n",
    "\n",
    "# Structure and datatypes\n",
    "df.info()\n"
   ]
  },
  {
   "cell_type": "markdown",
   "id": "37739505-75ee-4f15-aaef-e8383a921fe9",
   "metadata": {},
   "source": [
    "## 📊 Summary Statistics\n",
    "\n",
    "Let’s view the statistical summary of numerical columns to check ranges and distributions.\n",
    "This helps identify extreme values, zeros, or data entry errors.\n"
   ]
  },
  {
   "cell_type": "code",
   "execution_count": 7,
   "id": "0f27092b-7148-4f17-ab4f-1036fabc68e8",
   "metadata": {},
   "outputs": [
    {
     "data": {
      "text/html": [
       "<div>\n",
       "<style scoped>\n",
       "    .dataframe tbody tr th:only-of-type {\n",
       "        vertical-align: middle;\n",
       "    }\n",
       "\n",
       "    .dataframe tbody tr th {\n",
       "        vertical-align: top;\n",
       "    }\n",
       "\n",
       "    .dataframe thead th {\n",
       "        text-align: right;\n",
       "    }\n",
       "</style>\n",
       "<table border=\"1\" class=\"dataframe\">\n",
       "  <thead>\n",
       "    <tr style=\"text-align: right;\">\n",
       "      <th></th>\n",
       "      <th>Spend</th>\n",
       "      <th>Clicks</th>\n",
       "      <th>Impressions</th>\n",
       "      <th>Conversions</th>\n",
       "      <th>Revenue</th>\n",
       "    </tr>\n",
       "  </thead>\n",
       "  <tbody>\n",
       "    <tr>\n",
       "      <th>count</th>\n",
       "      <td>915.000000</td>\n",
       "      <td>915.000000</td>\n",
       "      <td>915.000000</td>\n",
       "      <td>915.000000</td>\n",
       "      <td>915.000000</td>\n",
       "    </tr>\n",
       "    <tr>\n",
       "      <th>mean</th>\n",
       "      <td>174.225574</td>\n",
       "      <td>256.300546</td>\n",
       "      <td>8709.314754</td>\n",
       "      <td>31.201093</td>\n",
       "      <td>1093.675038</td>\n",
       "    </tr>\n",
       "    <tr>\n",
       "      <th>std</th>\n",
       "      <td>72.020852</td>\n",
       "      <td>168.982929</td>\n",
       "      <td>4214.439630</td>\n",
       "      <td>24.365089</td>\n",
       "      <td>930.332631</td>\n",
       "    </tr>\n",
       "    <tr>\n",
       "      <th>min</th>\n",
       "      <td>51.890000</td>\n",
       "      <td>23.000000</td>\n",
       "      <td>1781.000000</td>\n",
       "      <td>1.000000</td>\n",
       "      <td>30.170000</td>\n",
       "    </tr>\n",
       "    <tr>\n",
       "      <th>25%</th>\n",
       "      <td>113.190000</td>\n",
       "      <td>130.000000</td>\n",
       "      <td>5089.000000</td>\n",
       "      <td>14.000000</td>\n",
       "      <td>423.930000</td>\n",
       "    </tr>\n",
       "    <tr>\n",
       "      <th>50%</th>\n",
       "      <td>173.160000</td>\n",
       "      <td>210.000000</td>\n",
       "      <td>8279.000000</td>\n",
       "      <td>25.000000</td>\n",
       "      <td>819.150000</td>\n",
       "    </tr>\n",
       "    <tr>\n",
       "      <th>75%</th>\n",
       "      <td>237.865000</td>\n",
       "      <td>344.000000</td>\n",
       "      <td>11511.000000</td>\n",
       "      <td>41.000000</td>\n",
       "      <td>1438.080000</td>\n",
       "    </tr>\n",
       "    <tr>\n",
       "      <th>max</th>\n",
       "      <td>299.040000</td>\n",
       "      <td>905.000000</td>\n",
       "      <td>20527.000000</td>\n",
       "      <td>156.000000</td>\n",
       "      <td>5918.170000</td>\n",
       "    </tr>\n",
       "  </tbody>\n",
       "</table>\n",
       "</div>"
      ],
      "text/plain": [
       "            Spend      Clicks   Impressions  Conversions      Revenue\n",
       "count  915.000000  915.000000    915.000000   915.000000   915.000000\n",
       "mean   174.225574  256.300546   8709.314754    31.201093  1093.675038\n",
       "std     72.020852  168.982929   4214.439630    24.365089   930.332631\n",
       "min     51.890000   23.000000   1781.000000     1.000000    30.170000\n",
       "25%    113.190000  130.000000   5089.000000    14.000000   423.930000\n",
       "50%    173.160000  210.000000   8279.000000    25.000000   819.150000\n",
       "75%    237.865000  344.000000  11511.000000    41.000000  1438.080000\n",
       "max    299.040000  905.000000  20527.000000   156.000000  5918.170000"
      ]
     },
     "execution_count": 7,
     "metadata": {},
     "output_type": "execute_result"
    }
   ],
   "source": [
    "df.describe()"
   ]
  },
  {
   "cell_type": "markdown",
   "id": "1619b88a-1b0a-4a9a-9b78-382d0b356fe3",
   "metadata": {},
   "source": [
    "## 🧹 Missing Values Check\n",
    "\n",
    "Let’s verify that there are no missing values in critical columns like Spend, Impressions, Conversions, etc."
   ]
  },
  {
   "cell_type": "code",
   "execution_count": 9,
   "id": "2979f99c-c756-4db0-b539-d6b95f012810",
   "metadata": {},
   "outputs": [
    {
     "data": {
      "text/plain": [
       "Campaign Name    0\n",
       "Channel          0\n",
       "Date             0\n",
       "Spend            0\n",
       "Clicks           0\n",
       "Impressions      0\n",
       "Conversions      0\n",
       "Revenue          0\n",
       "dtype: int64"
      ]
     },
     "execution_count": 9,
     "metadata": {},
     "output_type": "execute_result"
    }
   ],
   "source": [
    "df.isnull().sum()"
   ]
  },
  {
   "cell_type": "markdown",
   "id": "e4d7143d-8671-4cd7-9167-d910287f34a3",
   "metadata": {},
   "source": [
    "## 🧠 Campaign and Channel Breakdown\n",
    "\n",
    "Let’s see:\n",
    "- How many platforms are in the dataset?\n",
    "- Which campaigns exist and how often they appear?"
   ]
  },
  {
   "cell_type": "code",
   "execution_count": 10,
   "id": "72257df7-e2b5-4591-aa6a-e9e1abd2a468",
   "metadata": {},
   "outputs": [
    {
     "name": "stdout",
     "output_type": "stream",
     "text": [
      "Channels:\n",
      "Channel\n",
      "Google Ads    183\n",
      "Meta Ads      183\n",
      "YouTube       183\n",
      "TikTok        183\n",
      "LinkedIn      183\n",
      "Name: count, dtype: int64 \n",
      "\n",
      "Number of unique campaigns: 15\n"
     ]
    }
   ],
   "source": [
    "# Unique values per channel\n",
    "print(\"Channels:\")\n",
    "print(df['Channel'].value_counts(), '\\n')\n",
    "\n",
    "# Number of unique campaigns\n",
    "print(f\"Number of unique campaigns: {df['Campaign Name'].nunique()}\")"
   ]
  },
  {
   "cell_type": "markdown",
   "id": "280e82e7-8676-45c4-869d-9bbfab30ca9e",
   "metadata": {},
   "source": [
    "## 📈 Derived Metrics (CTR, CPC, CPA, ROAS)\n",
    "\n",
    "Let’s calculate key performance indicators for campaign performance:\n",
    "- **CTR (Click-Through Rate)**\n",
    "- **CPC (Cost Per Click)**\n",
    "- **CPA (Cost Per Acquisition)**\n",
    "- **ROAS (Return on Ad Spend)**\n",
    "\n",
    "We'll store these as new columns in the dataset.\n"
   ]
  },
  {
   "cell_type": "code",
   "execution_count": 12,
   "id": "aad536a0-62b5-4ff1-9444-98dd794f9412",
   "metadata": {},
   "outputs": [
    {
     "data": {
      "text/html": [
       "<div>\n",
       "<style scoped>\n",
       "    .dataframe tbody tr th:only-of-type {\n",
       "        vertical-align: middle;\n",
       "    }\n",
       "\n",
       "    .dataframe tbody tr th {\n",
       "        vertical-align: top;\n",
       "    }\n",
       "\n",
       "    .dataframe thead th {\n",
       "        text-align: right;\n",
       "    }\n",
       "</style>\n",
       "<table border=\"1\" class=\"dataframe\">\n",
       "  <thead>\n",
       "    <tr style=\"text-align: right;\">\n",
       "      <th></th>\n",
       "      <th>CTR</th>\n",
       "      <th>CPC</th>\n",
       "      <th>CPA</th>\n",
       "      <th>ROAS</th>\n",
       "    </tr>\n",
       "  </thead>\n",
       "  <tbody>\n",
       "    <tr>\n",
       "      <th>count</th>\n",
       "      <td>915.000000</td>\n",
       "      <td>915.000000</td>\n",
       "      <td>915.000000</td>\n",
       "      <td>915.000000</td>\n",
       "    </tr>\n",
       "    <tr>\n",
       "      <th>mean</th>\n",
       "      <td>0.029470</td>\n",
       "      <td>0.868718</td>\n",
       "      <td>8.466572</td>\n",
       "      <td>6.338627</td>\n",
       "    </tr>\n",
       "    <tr>\n",
       "      <th>std</th>\n",
       "      <td>0.011386</td>\n",
       "      <td>0.480212</td>\n",
       "      <td>6.637698</td>\n",
       "      <td>4.367615</td>\n",
       "    </tr>\n",
       "    <tr>\n",
       "      <th>min</th>\n",
       "      <td>0.009861</td>\n",
       "      <td>0.286784</td>\n",
       "      <td>1.632566</td>\n",
       "      <td>0.558888</td>\n",
       "    </tr>\n",
       "    <tr>\n",
       "      <th>25%</th>\n",
       "      <td>0.019577</td>\n",
       "      <td>0.516015</td>\n",
       "      <td>4.225502</td>\n",
       "      <td>3.105384</td>\n",
       "    </tr>\n",
       "    <tr>\n",
       "      <th>50%</th>\n",
       "      <td>0.029814</td>\n",
       "      <td>0.726380</td>\n",
       "      <td>6.252903</td>\n",
       "      <td>5.397621</td>\n",
       "    </tr>\n",
       "    <tr>\n",
       "      <th>75%</th>\n",
       "      <td>0.038935</td>\n",
       "      <td>1.079767</td>\n",
       "      <td>10.349211</td>\n",
       "      <td>8.368631</td>\n",
       "    </tr>\n",
       "    <tr>\n",
       "      <th>max</th>\n",
       "      <td>0.049864</td>\n",
       "      <td>2.994625</td>\n",
       "      <td>51.920000</td>\n",
       "      <td>28.612318</td>\n",
       "    </tr>\n",
       "  </tbody>\n",
       "</table>\n",
       "</div>"
      ],
      "text/plain": [
       "              CTR         CPC         CPA        ROAS\n",
       "count  915.000000  915.000000  915.000000  915.000000\n",
       "mean     0.029470    0.868718    8.466572    6.338627\n",
       "std      0.011386    0.480212    6.637698    4.367615\n",
       "min      0.009861    0.286784    1.632566    0.558888\n",
       "25%      0.019577    0.516015    4.225502    3.105384\n",
       "50%      0.029814    0.726380    6.252903    5.397621\n",
       "75%      0.038935    1.079767   10.349211    8.368631\n",
       "max      0.049864    2.994625   51.920000   28.612318"
      ]
     },
     "execution_count": 12,
     "metadata": {},
     "output_type": "execute_result"
    }
   ],
   "source": [
    "# Avoid division errors by replacing 0 with NaN\n",
    "df.replace(0, np.nan, inplace=True)\n",
    "\n",
    "# Add calculated KPI columns\n",
    "df['CTR'] = df['Clicks'] / df['Impressions']\n",
    "df['CPC'] = df['Spend'] / df['Clicks']\n",
    "df['CPA'] = df['Spend'] / df['Conversions']\n",
    "df['ROAS'] = df['Revenue'] / df['Spend']\n",
    "\n",
    "# Preview new columns\n",
    "df[['CTR', 'CPC', 'CPA', 'ROAS']].describe()"
   ]
  },
  {
   "cell_type": "markdown",
   "id": "a5e3155a-107f-4931-b7b7-b50974daecef",
   "metadata": {},
   "source": [
    "## 🧽 Handle Invalid or Infinite Values\n",
    "\n",
    "We’ll clean up any invalid values in the calculated metrics caused by:\n",
    "- Division by 0 (e.g. no clicks or no conversions)\n",
    "- Infinite or undefined results\n",
    "\n",
    "This is a key step before moving into visualization or dashboarding."
   ]
  },
  {
   "cell_type": "code",
   "execution_count": 13,
   "id": "b7bd0f6c-895a-46ed-8408-6cb6bc2d33c4",
   "metadata": {},
   "outputs": [
    {
     "name": "stdout",
     "output_type": "stream",
     "text": [
      "Cleaned rows remaining: 915\n"
     ]
    }
   ],
   "source": [
    "# Replace infinite values with NaN\n",
    "df.replace([np.inf, -np.inf], np.nan, inplace=True)\n",
    "\n",
    "# Drop rows with NaN values in key metrics\n",
    "df.dropna(subset=['CTR', 'CPC', 'CPA', 'ROAS'], inplace=True)\n",
    "\n",
    "# Check final dataset shape\n",
    "print(f\"Cleaned rows remaining: {df.shape[0]}\")\n"
   ]
  },
  {
   "cell_type": "markdown",
   "id": "b099d33a-245a-4ccf-b707-4947a6301881",
   "metadata": {},
   "source": [
    "## 💾 Save Cleaned Dataset\n",
    "\n",
    "Now that we've calculated and cleaned our key KPIs, we’ll save the cleaned version of the dataset into the `data/clean/` folder for future analysis and dashboarding.\n"
   ]
  },
  {
   "cell_type": "code",
   "execution_count": 14,
   "id": "69583a2e-42b2-43b9-b547-6f9a8bb4b1e1",
   "metadata": {},
   "outputs": [
    {
     "name": "stdout",
     "output_type": "stream",
     "text": [
      "✅ Cleaned dataset saved successfully.\n"
     ]
    }
   ],
   "source": [
    "# Save to /data/clean/\n",
    "df.to_csv('../data/clean/media_campaign_data_clean.csv', index=False)\n",
    "print(\"✅ Cleaned dataset saved successfully.\")\n"
   ]
  }
 ],
 "metadata": {
  "kernelspec": {
   "display_name": "Python [conda env:base] *",
   "language": "python",
   "name": "conda-base-py"
  },
  "language_info": {
   "codemirror_mode": {
    "name": "ipython",
    "version": 3
   },
   "file_extension": ".py",
   "mimetype": "text/x-python",
   "name": "python",
   "nbconvert_exporter": "python",
   "pygments_lexer": "ipython3",
   "version": "3.12.7"
  }
 },
 "nbformat": 4,
 "nbformat_minor": 5
}
